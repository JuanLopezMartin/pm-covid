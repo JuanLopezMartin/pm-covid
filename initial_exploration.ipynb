{
 "cells": [
  {
   "cell_type": "code",
   "execution_count": 19,
   "metadata": {},
   "outputs": [],
   "source": [
    "import numpy as np\n",
    "import pandas as pd\n",
    "import itertools\n",
    "import collections"
   ]
  },
  {
   "cell_type": "code",
   "execution_count": 20,
   "metadata": {},
   "outputs": [],
   "source": [
    "def convertsubproject(subproject):\n",
    "    if subproject!=subproject:\n",
    "        return \"\"\n",
    "    else:\n",
    "        return \" (\" + str(int(subproject)) + \")\"\n",
    "    \n",
    "def processyear(year):\n",
    "    pm_year = pd.read_csv('Precision Medicine_' + str(year) + '.csv')\n",
    "    pm_year['Project Number'] = pm_year['Project Number'].astype('str') + [convertsubproject(subproject) for subproject in pm_year['Sub Project #']]\n",
    "    all_year = pd.read_csv('FedRePORTER_PRJ_C_FY' + str(year) + '.csv', dtype={11:'str', 12:'str', 20:'str'}, error_bad_lines=False)\n",
    "    pm_year = pm_year[['Category', 'Project Number']]\n",
    "    pm_year = pm_year.merge(all_year, how='left', left_on='Project Number', right_on=' PROJECT_NUMBER')\n",
    "    return pm_year\n",
    "\n",
    "def compare_names(nsf_name, nih_name):\n",
    "    nsf_name = nsf_name.split(\" \")\n",
    "    nih_name = nih_name.split(\", \")   \n",
    "    if len(nsf_name)==2:\n",
    "        if nih_name[0]==nsf_name[1]:\n",
    "            if nih_name[1]==nsf_name[0]:\n",
    "                return(True)\n",
    "            elif nih_name[1].split(\" \")[0] == nsf_name[0]:\n",
    "                return(True)\n",
    "            elif nih_name[1].split(\" \")[1] == nsf_name[0]:\n",
    "                return(True)\n",
    "    elif len(nsf_name)==3:\n",
    "        if nih_name[0] == nsf_name[2]:\n",
    "            if nih_name[1] == (nsf_name[0]+' '+nsf_name[1]):\n",
    "                return(True)\n",
    "        elif nih_name[0] == (nsf_name[1]+' '+nsf_name[2]):\n",
    "            if nih_name[1] == nsf_name[0]:\n",
    "                return(True)\n",
    "    return(False)\n",
    "\n",
    "flatten = lambda l: [item for sublist in l for item in sublist]"
   ]
  },
  {
   "cell_type": "markdown",
   "metadata": {},
   "source": [
    "## Find PM researchers"
   ]
  },
  {
   "cell_type": "markdown",
   "metadata": {},
   "source": [
    "I get the NIH grants listed as related to PM by the RCDC (https://report.nih.gov/categorical_spending.aspx; only years 2016, 2017, 2018, and 2019), and from there I extract all PIs. Note that I consider contact PIs but also other PIs."
   ]
  },
  {
   "cell_type": "code",
   "execution_count": 3,
   "metadata": {},
   "outputs": [
    {
     "name": "stderr",
     "output_type": "stream",
     "text": [
      "b'Skipping line 87965: expected 24 fields, saw 25\\nSkipping line 87967: expected 24 fields, saw 25\\n'\n",
      "b'Skipping line 95568: expected 24 fields, saw 25\\nSkipping line 95570: expected 24 fields, saw 25\\n'\n",
      "b'Skipping line 74736: expected 24 fields, saw 25\\nSkipping line 79976: expected 24 fields, saw 25\\n'\n"
     ]
    }
   ],
   "source": [
    "pm_grants = pd.concat([processyear(2016),\n",
    "                       processyear(2017),\n",
    "                       processyear(2018),\n",
    "                       processyear(2019)])\n",
    "\n",
    "pm_grants[' CONTACT_PI_PROJECT_LEADER'] = pm_grants[' CONTACT_PI_PROJECT_LEADER'].str.replace(\".\", \"\").str.lower()\n",
    "pm_grants[' CONTACT_PI_PROJECT_LEADER'] = [[x] for x in pm_grants[' CONTACT_PI_PROJECT_LEADER']]\n",
    "pm_grants[' OTHER_PIS'] = [[name.strip() for name in names.replace(\".\", \"\").strip()[:-1].strip().split(\";\")] for names in pm_grants[' OTHER_PIS'].fillna(\"\").str.lower()]\n",
    "\n",
    "pi_list = ['']*len(pm_grants)\n",
    "for i, names in enumerate(pm_grants[' OTHER_PIS']):\n",
    "    if names == ['']:\n",
    "        pi_list[i] = pm_grants[' CONTACT_PI_PROJECT_LEADER'].iloc[i]\n",
    "    else:\n",
    "        pi_list[i] = pm_grants[' CONTACT_PI_PROJECT_LEADER'].iloc[i] + pm_grants[' OTHER_PIS'].iloc[i]\n",
    "pm_grants['All PIs'] = pi_list"
   ]
  },
  {
   "cell_type": "markdown",
   "metadata": {},
   "source": [
    "These are the PIs associated with the largest number of projects:"
   ]
  },
  {
   "cell_type": "code",
   "execution_count": 63,
   "metadata": {},
   "outputs": [
    {
     "data": {
      "text/plain": [
       "[('denny, joshua charles', 31),\n",
       " ('gatenby, robert a', 25),\n",
       " ('kretzler, matthias', 24),\n",
       " ('mills, gordon b', 23),\n",
       " ('perera, minoli', 22),\n",
       " (nan, 22),\n",
       " ('mooney, kathleen h', 20),\n",
       " ('schnall, mitchell d', 19),\n",
       " ('gharavi, ali g', 19),\n",
       " ('minna, john d', 19)]"
      ]
     },
     "execution_count": 63,
     "metadata": {},
     "output_type": "execute_result"
    }
   ],
   "source": [
    "pm_researchers_counts = collections.Counter(flatten(pm_grants['All PIs']))\n",
    "pm_researchers_counts.most_common(10)"
   ]
  },
  {
   "cell_type": "code",
   "execution_count": 64,
   "metadata": {},
   "outputs": [
    {
     "name": "stdout",
     "output_type": "stream",
     "text": [
      "There are 3803 NIH-PM researchers\n"
     ]
    }
   ],
   "source": [
    "print('There are ' + str(len(pm_researchers_counts)) + ' NIH-PM researchers')"
   ]
  },
  {
   "cell_type": "markdown",
   "metadata": {},
   "source": [
    "## NSF Covid-related grants"
   ]
  },
  {
   "cell_type": "markdown",
   "metadata": {},
   "source": [
    "The search criteria for the NSF Covid-related awards is https://www.nsf.gov/awardsearch/advancedSearchResult?PIId=&PIFirstName=&PILastName=&PIOrganization=&PIState=&PIZip=&PICountry=&ProgOrganization=&ProgEleCode=&BooleanElement=All&ProgRefCode=&BooleanRef=All&Program=&ProgOfficer=&Keyword=COVID+AND+RAPID&AwardNumberOperator=&AwardAmount=&AwardInstrument=&ActiveAwards=true&OriginalAwardDateOperator=&StartDateOperator=&ExpDateOperator= , which is a modified version of the https://covidinfocommons.datascience.columbia.edu/ resource.\n"
   ]
  },
  {
   "cell_type": "markdown",
   "metadata": {},
   "source": [
    "These are the PIs that are connected to the largest number of Covid-related NSF projects. "
   ]
  },
  {
   "cell_type": "code",
   "execution_count": 6,
   "metadata": {},
   "outputs": [
    {
     "name": "stdout",
     "output_type": "stream",
     "text": [
      "jeannette sutton           2\n",
      "yanfang ye                 2\n",
      "angelique corthals         2\n",
      "gerardo chowell-puente     2\n",
      "kyle bibby                 2\n",
      "joshua hartshorne          2\n",
      "john yin                   2\n",
      "liliana davalos alvarez    2\n",
      "katriona shea              2\n",
      "andrew whelton             2\n",
      "Name: PrincipalInvestigator, dtype: int64\n",
      "There are 826 NSF-Covid researchers\n"
     ]
    }
   ],
   "source": [
    "nsf_awards = pd.read_csv('NSF_covid_awards.csv', encoding='cp1252')\n",
    "nsf_awards['PrincipalInvestigator'] = nsf_awards['PrincipalInvestigator'].str.lower().replace(\".\", \"\")\n",
    "nsf_pis = list(nsf_awards['PrincipalInvestigator'].unique())\n",
    "\n",
    "print(nsf_awards['PrincipalInvestigator'].value_counts()[0:10])\n",
    "print('There are ' + str(len(nsf_awards['PrincipalInvestigator'].value_counts())) + ' NSF-Covid researchers')"
   ]
  },
  {
   "cell_type": "markdown",
   "metadata": {},
   "source": [
    "Our next goal is to find if some of these NSF-Covid researchers are also NIH-PM researchers. Matching these two lists of researchers requires, however, taking into account that the name of NSF-Covod PIs is formatted in a very different way than the NIH-PM names. The NSF dataset reports names in order (e.g. \"John Doe\") and in most cases do not contains a middle name. Meanwhile, in the NIH dataset names are better formatted as to identify the surname (e.g. \"Doe, John\") and middle name or initial is often included. I built and used a simple name matching approach to find similarities, although this could maybe be improved in the future."
   ]
  },
  {
   "cell_type": "code",
   "execution_count": 7,
   "metadata": {
    "scrolled": true
   },
   "outputs": [
    {
     "name": "stdout",
     "output_type": "stream",
     "text": [
      "True\n",
      "True\n",
      "True\n",
      "False\n",
      "False\n"
     ]
    }
   ],
   "source": [
    "# Checking compare_names function\n",
    "\n",
    "print(compare_names(\"John Doe\", \"Doe, John\"))\n",
    "print(compare_names(\"John Foe Doe\", \"Foe Doe, John\"))\n",
    "print(compare_names(\"John Doe\", \"Doe, John A\"))\n",
    "print(compare_names(\"John Alexander Doe\", \"Doe, John B\"))\n",
    "print(compare_names(\"John Doe\", \"Foe, John A\"))"
   ]
  },
  {
   "cell_type": "markdown",
   "metadata": {},
   "source": [
    "Using that, I find 19 *likely* matches. Note, however, that some of these may need to be checked manually, as the compare_names function only returns possible matches (e.g. it is possible that 'nicole steinmetz' is different from 'steinmetz, nicole franziska')."
   ]
  },
  {
   "cell_type": "code",
   "execution_count": 37,
   "metadata": {},
   "outputs": [],
   "source": [
    "pi_list = ['']*len(nsf_awards)\n",
    "for i, names in enumerate(nsf_awards['Co-PIName(s)'].str.lower()):\n",
    "    if names != names:\n",
    "        pi_list[i] = [nsf_awards['PrincipalInvestigator'].iloc[i].replace(\".\", \"\").strip().lower()]\n",
    "    else:\n",
    "        pi_list[i] = [nsf_awards['PrincipalInvestigator'].iloc[i].replace(\".\", \"\").strip().lower()] + [name.strip() for name in names.replace(\".\", \"\").strip().split(\", \")]\n",
    "nsf_awards['All PIS'] = pi_list"
   ]
  },
  {
   "cell_type": "code",
   "execution_count": 38,
   "metadata": {},
   "outputs": [
    {
     "name": "stdout",
     "output_type": "stream",
     "text": [
      "19\n",
      "[['amber simpson', 'simpson, amber'], ['andrey grigoriev', 'grigoriev, andrey'], ['bradley malin', 'malin, bradley a'], ['faming liang', 'liang, faming'], ['heather allore', 'allore, heather gwynn'], ['janet williams', 'williams, janet k'], ['john mellnik', 'mellnik, john'], ['jun yang', 'yang, jun j'], ['kun huang', 'huang, kun'], ['marco salemi', 'salemi, marco'], ['mattia prosperi', 'prosperi, mattia'], ['michael nelson', 'nelson, michael douglas'], ['munmun de choudhury', 'de choudhury, munmun'], ['nicole steinmetz', 'steinmetz, nicole franziska'], ['olivier lichtarge', 'lichtarge, olivier'], ['steven young', 'young, steven l'], ['wesley wong', 'wong, wesley philip'], ['xiaodong wu', 'wu, xiaodong'], ['xiaoqian jiang', 'jiang, xiaoqian']]\n"
     ]
    }
   ],
   "source": [
    "pm_covid_researchers_nsf = []\n",
    "\n",
    "for i, nsf_names in enumerate(nsf_awards['All PIS']):\n",
    "    for nsf_name in nsf_names:\n",
    "        for j, nih_name in enumerate(flatten(pm_grants['All PIs'])):\n",
    "            try: \n",
    "                if compare_names(nsf_name, nih_name):\n",
    "                    pm_covid_researchers_nsf.append([nsf_name, nih_name])\n",
    "            except:\n",
    "                pass\n",
    "        \n",
    "pm_covid_researchers_nsf.sort()\n",
    "pm_covid_researchers_nsf = list(k for k,_ in itertools.groupby(pm_covid_researchers_nsf))\n",
    "print(len(pm_covid_researchers_nsf))\n",
    "print(pm_covid_researchers_nsf)"
   ]
  },
  {
   "cell_type": "code",
   "execution_count": 65,
   "metadata": {},
   "outputs": [
    {
     "name": "stderr",
     "output_type": "stream",
     "text": [
      "C:\\ProgramData\\Anaconda3\\lib\\site-packages\\ipykernel_launcher.py:3: SettingWithCopyWarning: \n",
      "A value is trying to be set on a copy of a slice from a DataFrame.\n",
      "Try using .loc[row_indexer,col_indexer] = value instead\n",
      "\n",
      "See the caveats in the documentation: http://pandas.pydata.org/pandas-docs/stable/user_guide/indexing.html#returning-a-view-versus-a-copy\n",
      "  This is separate from the ipykernel package so we can avoid doing imports until\n"
     ]
    }
   ],
   "source": [
    "pis_of_interest = [names[0] for names in pm_covid_researchers_nsf]\n",
    "nsf_pm = nsf_awards[[bool(np.sum([name in pis_of_interest for name in names])) for names in nsf_awards['All PIS']]]\n",
    "nsf_pm['PM PIs'] = [[name if name in pis_of_interest else \"\" for name in names] for names in nsf_pm['All PIS']]\n",
    "nsf_pm.to_csv('NSF_Covid_PM.csv')"
   ]
  },
  {
   "cell_type": "markdown",
   "metadata": {},
   "source": [
    "## NIH Covid-related grants\n",
    "\n",
    "The search criteria for the NIH-Covid awards is https://projectreporter.nih.gov/reporter_searchresults.cfm?redir=sh&sl=14E9CE024F8FC5D27598B8961CAA4A01A2FFCEB861BF&icde=50791235&hsid=66453521&shQID=0&go2= when clicking in here https://grants.nih.gov/policy/natural-disasters/corona-virus.htm (under \"All COVID-19 research grant funding\") "
   ]
  },
  {
   "cell_type": "code",
   "execution_count": 31,
   "metadata": {
    "scrolled": true
   },
   "outputs": [
    {
     "name": "stdout",
     "output_type": "stream",
     "text": [
      "There are 345 NIH-Covid researchers\n"
     ]
    }
   ],
   "source": [
    "nih_awards = pd.read_csv('NIH_covid_awards_2.csv', encoding= 'unicode_escape')\n",
    "\n",
    "pi_list = ['']*len(nih_awards)\n",
    "for i, names in enumerate(nih_awards['Other PI or Project Leader(s)'].dropna().str.lower()):\n",
    "    if names == 'not applicable':\n",
    "        pi_list[i] = [nih_awards['Contact PI / Project Leader'].iloc[i].replace(\".\", \"\").strip().lower()]\n",
    "    else:\n",
    "        pi_list[i] = [nih_awards['Contact PI / Project Leader'].iloc[i].replace(\".\", \"\").strip().lower()] + [name.strip() for name in names.replace(\".\", \"\").strip().strip().split(\";\")]\n",
    "nih_awards['All PIS'] = pi_list\n",
    "\n",
    "\n",
    "print('There are ' + str(len(set(flatten(nih_awards['All PIS'])))) + ' NIH-Covid researchers')"
   ]
  },
  {
   "cell_type": "markdown",
   "metadata": {},
   "source": [
    "I find 42 researchers that are in the NIH-PM dataset and that have received NIH-Covid grants. We arelooking for exact matches in the names, so for instance \"Doe, John A\" and \"Doe, John Alexander\" will not match. In the future, we could use a more advanced name-matching approach."
   ]
  },
  {
   "cell_type": "code",
   "execution_count": 32,
   "metadata": {},
   "outputs": [
    {
     "name": "stdout",
     "output_type": "stream",
     "text": [
      "30\n",
      "['baliga, nitin s' 'banchereau, jacques f' 'baric, ralph s'\n",
      " 'berin, maria cecilia' 'buckner, jane hoyt' 'cameron, mark james'\n",
      " 'chatila, talal amine' 'chen, xi' 'falsey, ann r' 'freishtat, robert j'\n",
      " 'fuchs, charles s' 'garcia-sastre, adolfo' 'haas, david w'\n",
      " 'haendel, melissa a' 'harris, paul a' 'johnson, christine c'\n",
      " 'kraft, monica' 'kuo, calvin j' 'leach, steven d' 'phipatanakul, wanda'\n",
      " 'platanias, leonidas c' 'reilly, muredach p' 'reis, steven e'\n",
      " 'rothenberg, marc e' 'shah, binita' 'sykes, megan' 'wang, kai'\n",
      " 'weng, chunhua' 'wilkins, consuelo hopkins' 'zhou, ming-ming']\n"
     ]
    }
   ],
   "source": [
    "pm_covid_researchers_nih = np.intersect1d(flatten(pm_grants['All PIs']), flatten(nih_awards['All PIS']))\n",
    "print(len(pm_covid_researchers_nih))\n",
    "print(pm_covid_researchers_nih)"
   ]
  },
  {
   "cell_type": "code",
   "execution_count": 33,
   "metadata": {},
   "outputs": [
    {
     "name": "stderr",
     "output_type": "stream",
     "text": [
      "C:\\ProgramData\\Anaconda3\\lib\\site-packages\\ipykernel_launcher.py:3: SettingWithCopyWarning: \n",
      "A value is trying to be set on a copy of a slice from a DataFrame.\n",
      "Try using .loc[row_indexer,col_indexer] = value instead\n",
      "\n",
      "See the caveats in the documentation: http://pandas.pydata.org/pandas-docs/stable/user_guide/indexing.html#returning-a-view-versus-a-copy\n",
      "  This is separate from the ipykernel package so we can avoid doing imports until\n"
     ]
    }
   ],
   "source": [
    "pis_of_interest = pm_covid_researchers_nih\n",
    "nih_pm = nih_awards[[bool(np.sum([name in pis_of_interest for name in names])) for names in nih_awards['All PIS']]]\n",
    "nih_pm['PM PIs'] = [[name if name in pis_of_interest else \"\" for name in names] for names in nih_pm['All PIS']]\n",
    "nih_pm.to_csv('NIH_Covid_PM_2.csv')"
   ]
  },
  {
   "cell_type": "code",
   "execution_count": 46,
   "metadata": {},
   "outputs": [
    {
     "ename": "TypeError",
     "evalue": "'str' object cannot be interpreted as an integer",
     "output_type": "error",
     "traceback": [
      "\u001b[1;31m---------------------------------------------------------------------------\u001b[0m",
      "\u001b[1;31mTypeError\u001b[0m                                 Traceback (most recent call last)",
      "\u001b[1;32m<ipython-input-46-4a046b2a5a43>\u001b[0m in \u001b[0;36m<module>\u001b[1;34m\u001b[0m\n\u001b[0;32m      1\u001b[0m \u001b[0mcolist\u001b[0m \u001b[1;33m=\u001b[0m \u001b[0mlist\u001b[0m\u001b[1;33m(\u001b[0m\u001b[0mnih_pm\u001b[0m\u001b[1;33m.\u001b[0m\u001b[0mcolumns\u001b[0m\u001b[1;33m)\u001b[0m\u001b[1;33m\u001b[0m\u001b[1;33m\u001b[0m\u001b[0m\n\u001b[1;32m----> 2\u001b[1;33m \u001b[0mcolist\u001b[0m\u001b[1;33m.\u001b[0m\u001b[0mpop\u001b[0m\u001b[1;33m(\u001b[0m\u001b[1;34m'Project Abstract'\u001b[0m\u001b[1;33m)\u001b[0m\u001b[1;33m\u001b[0m\u001b[1;33m\u001b[0m\u001b[0m\n\u001b[0m\u001b[0;32m      3\u001b[0m \u001b[0mcolist\u001b[0m\u001b[1;33m\u001b[0m\u001b[1;33m\u001b[0m\u001b[0m\n",
      "\u001b[1;31mTypeError\u001b[0m: 'str' object cannot be interpreted as an integer"
     ]
    }
   ],
   "source": [
    "colist = list(nih_pm.columns)\n",
    "colist.pop('Project Abstract')\n",
    "colist"
   ]
  },
  {
   "cell_type": "code",
   "execution_count": 40,
   "metadata": {},
   "outputs": [
    {
     "name": "stdout",
     "output_type": "stream",
     "text": [
      "True\n"
     ]
    }
   ],
   "source": [
    "if 'Project Abstract' in nih_pm:\n",
    "    print(True)"
   ]
  }
 ],
 "metadata": {
  "kernelspec": {
   "display_name": "Python 3",
   "language": "python",
   "name": "python3"
  },
  "language_info": {
   "codemirror_mode": {
    "name": "ipython",
    "version": 3
   },
   "file_extension": ".py",
   "mimetype": "text/x-python",
   "name": "python",
   "nbconvert_exporter": "python",
   "pygments_lexer": "ipython3",
   "version": "3.7.4"
  }
 },
 "nbformat": 4,
 "nbformat_minor": 2
}
